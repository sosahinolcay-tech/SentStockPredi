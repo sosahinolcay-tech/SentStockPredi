{
 "cells": [
  {
   "cell_type": "markdown",
   "metadata": {},
   "source": [
    "# Exploratory Data Analysis for Stock Predictor\n",
    "\n",
    "This notebook is used for exploratory data analysis (EDA) and experimentation with the stock predictor application. It includes sections for fetching historical stock data, analyzing news headlines, computing sentiment, and visualizing the results."
   ]
  },
  {
   "cell_type": "code",
   "execution_count": 1,
   "metadata": {},
   "outputs": [],
   "source": [
    "# Import necessary libraries\n",
    "import pandas as pd\n",
    "import matplotlib.pyplot as plt\n",
    "import yfinance as yf\n",
    "from services.news_fetcher import fetch_news\n",
    "from services.sentiment_analyzer import analyze_sentiment\n",
    "from services.prophet_trainer import train_prophet_model\n",
    "\n",
    "# Set display options for pandas\n",
    "pd.set_option('display.max_columns', None)\n",
    "pd.set_option('display.width', 1000)\n",
    "\n",
    "# Function to fetch historical stock data\n",
    "def fetch_historical_data(ticker, start_date, end_date):\n",
    "    stock_data = yf.download(ticker, start=start_date, end=end_date)\n",
    "    return stock_data\n",
    "\n",
    "# Example usage: Fetch historical data for Apple\n",
    "ticker = 'AAPL'\n",
    "start_date = '2020-01-01'\n",
    "end_date = '2023-01-01'\n",
    "historical_data = fetch_historical_data(ticker, start_date, end_date)\n",
    "historical_data.head()"
   ]
  },
  {
   "cell_type": "code",
   "execution_count": 2,
   "metadata": {},
   "outputs": [],
   "source": [
    "# Visualize the historical stock data\n",
    "plt.figure(figsize=(12, 6))\n",
    "plt.plot(historical_data['Close'], label='Close Price')\n",
    "plt.title(f'{ticker} Historical Close Price')\n",
    "plt.xlabel('Date')\n",
    "plt.ylabel('Price (USD)')\n",
    "plt.legend()\n",
    "plt.grid()\n",
    "plt.show()"
   ]
  },
  {
   "cell_type": "code",
   "execution_count": 3,
   "metadata": {},
   "outputs": [],
   "source": [
    "# Fetch news headlines\n",
    "news_headlines = fetch_news(ticker)\n",
    "news_headlines.head()"
   ]
  },
  {
   "cell_type": "code",
   "execution_count": 4,
   "metadata": {},
   "outputs": [],
   "source": [
    "# Analyze sentiment of the news headlines\n",
    "sentiment_scores = analyze_sentiment(news_headlines['headline'])\n",
    "news_headlines['sentiment'] = sentiment_scores\n",
    "news_headlines.head()"
   ]
  },
  {
   "cell_type": "code",
   "execution_count": 5,
   "metadata": {},
   "outputs": [],
   "source": [
    "# Train Prophet model on historical data\n",
    "prophet_model = train_prophet_model(historical_data)\n",
    "prophet_model.plot()"
   ]
  }
 ],
 "metadata": {
  "kernelspec": {
   "display_name": "Python 3",
   "language": "python",
   "name": "python3"
  },
  "language_info": {
   "codemirror_mode": {
    "name": "ipython",
    "version": 3
   },
   "file_extension": ".py",
   "mimetype": "text/x-python",
   "name": "python",
   "nbconvert_exporter": "python",
   "pygments_lexer": "ipython3",
   "version": "3.8.5"
  }
 },
 "nbformat": 4,
 "nbformat_minor": 4
}